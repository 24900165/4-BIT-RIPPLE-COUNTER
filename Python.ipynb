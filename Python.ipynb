{
  "nbformat": 4,
  "nbformat_minor": 0,
  "metadata": {
    "colab": {
      "provenance": [],
      "authorship_tag": "ABX9TyM9PGdkLqm1NVJCyZM+f5n5",
      "include_colab_link": true
    },
    "kernelspec": {
      "name": "python3",
      "display_name": "Python 3"
    },
    "language_info": {
      "name": "python"
    }
  },
  "cells": [
    {
      "cell_type": "markdown",
      "metadata": {
        "id": "view-in-github",
        "colab_type": "text"
      },
      "source": [
        "<a href=\"https://colab.research.google.com/github/24900165/4-BIT-RIPPLE-COUNTER/blob/main/Python.ipynb\" target=\"_parent\"><img src=\"https://colab.research.google.com/assets/colab-badge.svg\" alt=\"Open In Colab\"/></a>"
      ]
    },
    {
      "cell_type": "code",
      "execution_count": 1,
      "metadata": {
        "colab": {
          "base_uri": "https://localhost:8080/"
        },
        "id": "EUGhb-HjY6PT",
        "outputId": "98789896-bde8-41db-8bf9-0b9ee4a85c46"
      },
      "outputs": [
        {
          "output_type": "stream",
          "name": "stdout",
          "text": [
            "10\n",
            "15\n",
            "10\n",
            "11\n",
            "12\n",
            "13\n",
            "14\n",
            "15\n"
          ]
        }
      ],
      "source": [
        "a=int(input())\n",
        "b=int(input())\n",
        "for i in range(a, b+1) :\n",
        "     print(i)"
      ]
    },
    {
      "cell_type": "code",
      "source": [
        "a=int(input())\n",
        "sum=0\n",
        "while a>0:\n",
        "     rem=a%10\n",
        "     sum+=rem\n",
        "     a=a//10\n",
        "print(\"The total sum of digits is:\", sum)"
      ],
      "metadata": {
        "colab": {
          "base_uri": "https://localhost:8080/"
        },
        "id": "FYKPGxezZTMZ",
        "outputId": "f8e33162-23f4-4ecc-ea2d-a260bc087f56"
      },
      "execution_count": 2,
      "outputs": [
        {
          "output_type": "stream",
          "name": "stdout",
          "text": [
            "134\n",
            "The total sum of digits is: 8\n"
          ]
        }
      ]
    },
    {
      "cell_type": "code",
      "source": [
        "a=int(input())\n",
        "count=0\n",
        "while a>0:\n",
        "    count+=1\n",
        "    a=a//10\n",
        "print(count)"
      ],
      "metadata": {
        "colab": {
          "base_uri": "https://localhost:8080/"
        },
        "id": "jpYV-jUnakXr",
        "outputId": "e1cd7cfd-7829-43b5-f55c-eb2a6ac0d558"
      },
      "execution_count": 3,
      "outputs": [
        {
          "output_type": "stream",
          "name": "stdout",
          "text": [
            "134\n",
            "3\n"
          ]
        }
      ]
    },
    {
      "cell_type": "code",
      "source": [
        "n=input()\n",
        "for i in range(1, 6) :\n",
        "    for j in range(1,i+1) :\n",
        "         print(n, end=\" \")\n",
        "    print()"
      ],
      "metadata": {
        "colab": {
          "base_uri": "https://localhost:8080/"
        },
        "id": "SktTCLl2e9vI",
        "outputId": "d035e412-7fe0-465a-95db-78956defb0db"
      },
      "execution_count": 6,
      "outputs": [
        {
          "output_type": "stream",
          "name": "stdout",
          "text": [
            "X\n",
            "X \n",
            "X X \n",
            "X X X \n",
            "X X X X \n",
            "X X X X X \n"
          ]
        }
      ]
    },
    {
      "cell_type": "code",
      "source": [
        "n=int(input())\n",
        "num =1\n",
        "for i in range(1, n+1) :\n",
        "    for j in range(1, i+1) :\n",
        "         print(num, end=\" \")\n",
        "         num+=1\n",
        "    print()"
      ],
      "metadata": {
        "colab": {
          "base_uri": "https://localhost:8080/"
        },
        "id": "FSH_JAoOgjOl",
        "outputId": "8a907685-ccce-450c-9f9e-3133d9d94567"
      },
      "execution_count": 12,
      "outputs": [
        {
          "output_type": "stream",
          "name": "stdout",
          "text": [
            "5\n",
            "1 \n",
            "2 3 \n",
            "4 5 6 \n",
            "7 8 9 10 \n",
            "11 12 13 14 15 \n"
          ]
        }
      ]
    },
    {
      "cell_type": "code",
      "source": [
        "n=int(input())\n",
        "x=int(input())\n",
        "sum=0\n",
        "i=1\n",
        "while(i<=n):\n",
        "    sum+=pow(x,i)\n",
        "    i+=2\n",
        "print(\"The sum of the series = \",sum)"
      ],
      "metadata": {
        "colab": {
          "base_uri": "https://localhost:8080/"
        },
        "id": "i-a9TPu5jAUO",
        "outputId": "5a8f650b-a9c3-4f0d-e261-9b5b19c29e92"
      },
      "execution_count": 13,
      "outputs": [
        {
          "output_type": "stream",
          "name": "stdout",
          "text": [
            "9\n",
            "2\n",
            "The sum of the series =  682\n"
          ]
        }
      ]
    }
  ]
}